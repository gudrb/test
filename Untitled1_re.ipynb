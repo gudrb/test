{
 "cells": [
  {
   "cell_type": "markdown",
   "metadata": {},
   "source": [
    "import numpy"
   ]
  },
  {
   "cell_type": "code",
   "execution_count": 7,
   "metadata": {},
   "outputs": [],
   "source": [
    "import numpy as np"
   ]
  },
  {
   "cell_type": "markdown",
   "metadata": {},
   "source": [
    "make 2dimension array use numpy.array [[1,2,3,4],[5,6,7,8],[9,10,11,12]]"
   ]
  },
  {
   "cell_type": "markdown",
   "metadata": {},
   "source": [
    "show the shape of array"
   ]
  },
  {
   "cell_type": "markdown",
   "metadata": {},
   "source": [
    "show the shape of array use numpy function"
   ]
  },
  {
   "cell_type": "markdown",
   "metadata": {},
   "source": [
    "make array include only 1 shape of (3,4)"
   ]
  },
  {
   "cell_type": "markdown",
   "metadata": {},
   "source": [
    "print first row "
   ]
  },
  {
   "cell_type": "markdown",
   "metadata": {},
   "source": [
    "make same shape array that include only 0 (numpy empty_like function) "
   ]
  },
  {
   "cell_type": "markdown",
   "metadata": {},
   "source": [
    "make array range from 0 to 11 , interval is 2"
   ]
  },
  {
   "cell_type": "markdown",
   "metadata": {},
   "source": [
    "make array shape (2,4 ) it include only y, (use numpy.full)"
   ]
  },
  {
   "cell_type": "markdown",
   "metadata": {},
   "source": [
    "from array a, make array b using slicing  [[2,3],[6,7]]"
   ]
  },
  {
   "cell_type": "markdown",
   "metadata": {},
   "source": [
    "using array b, translate value of a[1,1] to 70"
   ]
  },
  {
   "cell_type": "markdown",
   "metadata": {},
   "source": [
    "make array c=([0,1,2,3,4,5,6,7,8,9]) and print that values\n"
   ]
  },
  {
   "cell_type": "markdown",
   "metadata": {},
   "source": [
    "[0 2 4 6]"
   ]
  },
  {
   "cell_type": "markdown",
   "metadata": {},
   "source": [
    "[8 9]"
   ]
  },
  {
   "cell_type": "markdown",
   "metadata": {},
   "source": [
    "[7 6 5 4]"
   ]
  },
  {
   "cell_type": "markdown",
   "metadata": {},
   "source": [
    "[9 8 7 6 5 4 3 2 1 0]"
   ]
  },
  {
   "cell_type": "markdown",
   "metadata": {},
   "source": [
    "print array a and print like this\n",
    "[5,6,70,8] (4,)\n",
    "[[5,6,70,8]] (1,4)"
   ]
  },
  {
   "cell_type": "markdown",
   "metadata": {},
   "source": [
    "make array a = ([[1,2,3,4],[5,6,7,8],[9,10,11,12]])\n",
    "and value (row),(columns) -> 2dimension array\n",
    "then, print(a[row,columns]) is [[1,4],[9,12]]"
   ]
  },
  {
   "cell_type": "markdown",
   "metadata": {},
   "source": [
    "make array b if print(a[np.arange(3),b]) is [1,7,10]"
   ]
  },
  {
   "cell_type": "markdown",
   "metadata": {},
   "source": [
    "translate array a to boolean array that include \n",
    "True when value is over 3 and the other is False"
   ]
  },
  {
   "cell_type": "markdown",
   "metadata": {},
   "source": [
    "print all values over 3 from array "
   ]
  },
  {
   "cell_type": "markdown",
   "metadata": {},
   "source": [
    "return true if any elements of a is true . if iterable is empty return true"
   ]
  },
  {
   "cell_type": "markdown",
   "metadata": {},
   "source": [
    "return true if all elements of a is true. if iterableis is empty return false"
   ]
  },
  {
   "cell_type": "markdown",
   "metadata": {},
   "source": [
    "print length of rows"
   ]
  },
  {
   "cell_type": "markdown",
   "metadata": {},
   "source": [
    "print length of columns"
   ]
  },
  {
   "cell_type": "markdown",
   "metadata": {},
   "source": [
    "print all values over 3 form a , use for and if"
   ]
  },
  {
   "cell_type": "markdown",
   "metadata": {},
   "source": [
    "x=([[1,2],[3,4]])\n",
    "print sum of all values"
   ]
  },
  {
   "cell_type": "markdown",
   "metadata": {},
   "source": [
    "print vertual sum use sum function\n"
   ]
  },
  {
   "cell_type": "markdown",
   "metadata": {},
   "source": [
    "print horisontal sum use sum function"
   ]
  },
  {
   "cell_type": "markdown",
   "metadata": {},
   "source": [
    "print array x and shape of x\n",
    "and transform row and column of array x"
   ]
  },
  {
   "cell_type": "markdown",
   "metadata": {},
   "source": [
    "x=np.array([1,2,3],[4,5,6],[7,8,9],[10,11,12])\n",
    "y=np.array([1,0,1])\n",
    "sum x and y"
   ]
  },
  {
   "cell_type": "markdown",
   "metadata": {},
   "source": [
    "do one hot encoding to array [ 0,4,3,2,4,0,2,2,1]\n",
    "and print virtically , it is 2 dimension array"
   ]
  },
  {
   "cell_type": "markdown",
   "metadata": {},
   "source": [
    "array x is ([0,1,2,3,4,5,6,7,8,9])\n",
    "make 2 dimension array column size is 5\n",
    "make 2 dimension array shape (5,2)\n",
    "(use reshape class method)"
   ]
  },
  {
   "cell_type": "code",
   "execution_count": null,
   "metadata": {},
   "outputs": [],
   "source": []
  }
 ],
 "metadata": {
  "kernelspec": {
   "display_name": "Python 3",
   "language": "python",
   "name": "python3"
  },
  "language_info": {
   "codemirror_mode": {
    "name": "ipython",
    "version": 3
   },
   "file_extension": ".py",
   "mimetype": "text/x-python",
   "name": "python",
   "nbconvert_exporter": "python",
   "pygments_lexer": "ipython3",
   "version": "3.6.4"
  }
 },
 "nbformat": 4,
 "nbformat_minor": 2
}
